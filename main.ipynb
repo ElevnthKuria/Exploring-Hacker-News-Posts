{
 "cells": [
  {
   "cell_type": "markdown",
   "metadata": {},
   "source": [
    "## Introduction\n",
    "\n",
    "This project is focused in the following skills that we shall be using through out this project:\n",
    "1. Working with Strings\n",
    "2. Object-oriented programming\n",
    "3. Dates and times\n",
    "\n",
    "We shall be using the skills to do analysis on th Hacker News Posts.\n",
    "\n",
    "We shall be using dataset from the Hacker News website. Hacker News is extremely popular in technology and startup circles, and posts that make it to the top of the Hacker News listings can get hundreds of thousands of visitors as a result.\n",
    "To learn more about the site follow the link  [Hacker News](https://news.ycombinator.com/)\n",
    "\n",
    "\n"
   ]
  },
  {
   "cell_type": "markdown",
   "metadata": {},
   "source": [
    "We have limited the entire dataset to work on only 20,000 rows by removing all submissions that didn't receive any comments and then randomly sampling from the remaining submissions. The descriptions of the columns are as below:\n",
    "\n",
    "- id: The unique identifier from Hacker News for the post\n",
    "- title: The title of the post\n",
    "- url: The URL that the posts links to, if it the post has a URL\n",
    "- num_points: The number of points the post acquired, calculated as the total number of upvotes minus the total number of downvotes\n",
    "- num_comments: The number of comments that were made on the post\n",
    "- author: The username of the person who submitted the post\n",
    "- created_at: The date and time at which the post was submitted"
   ]
  },
  {
   "cell_type": "markdown",
   "metadata": {},
   "source": [
    "We shall be focusing on posts titles that begin with:\n",
    "- Ask HN eg, How to improve my personal website?\n",
    "- Show HN eg, Am i the only one outraged by some twits?\n",
    "- Ask HN eg, has ther been anny \n",
    "\n"
   ]
  },
  {
   "cell_type": "markdown",
   "metadata": {},
   "source": [
    "## 1. Importing libraries and dataset\n"
   ]
  },
  {
   "cell_type": "code",
   "execution_count": 1,
   "metadata": {},
   "outputs": [],
   "source": [
    "## Libraries\n",
    "from csv import reader\n",
    "import datetime as dt"
   ]
  },
  {
   "cell_type": "code",
   "execution_count": 2,
   "metadata": {},
   "outputs": [
    {
     "data": {
      "text/plain": [
       "[['id', 'title', 'url', 'num_points', 'num_comments', 'author', 'created_at'],\n",
       " ['12224879',\n",
       "  'Interactive Dynamic Video',\n",
       "  'http://www.interactivedynamicvideo.com/',\n",
       "  '386',\n",
       "  '52',\n",
       "  'ne0phyte',\n",
       "  '8/4/2016 11:52'],\n",
       " ['10975351',\n",
       "  'How to Use Open Source and Shut the Fuck Up at the Same Time',\n",
       "  'http://hueniverse.com/2016/01/26/how-to-use-open-source-and-shut-the-fuck-up-at-the-same-time/',\n",
       "  '39',\n",
       "  '10',\n",
       "  'josep2',\n",
       "  '1/26/2016 19:30'],\n",
       " ['11964716',\n",
       "  \"Florida DJs May Face Felony for April Fools' Water Joke\",\n",
       "  'http://www.thewire.com/entertainment/2013/04/florida-djs-april-fools-water-joke/63798/',\n",
       "  '2',\n",
       "  '1',\n",
       "  'vezycash',\n",
       "  '6/23/2016 22:20'],\n",
       " ['11919867',\n",
       "  'Technology ventures: From Idea to Enterprise',\n",
       "  'https://www.amazon.com/Technology-Ventures-Enterprise-Thomas-Byers/dp/0073523429',\n",
       "  '3',\n",
       "  '1',\n",
       "  'hswarna',\n",
       "  '6/17/2016 0:01']]"
      ]
     },
     "execution_count": 2,
     "metadata": {},
     "output_type": "execute_result"
    }
   ],
   "source": [
    "# parsing our data\n",
    "\n",
    "open_file = open('hacker_news.csv',encoding=\"utf8\")\n",
    "hn = list(reader(open_file))\n",
    "hn[:5]"
   ]
  },
  {
   "cell_type": "markdown",
   "metadata": {},
   "source": []
  },
  {
   "cell_type": "code",
   "execution_count": 3,
   "metadata": {},
   "outputs": [
    {
     "name": "stdout",
     "output_type": "stream",
     "text": [
      "[['id', 'title', 'url', 'num_points', 'num_comments', 'author', 'created_at'], ['12224879', 'Interactive Dynamic Video', 'http://www.interactivedynamicvideo.com/', '386', '52', 'ne0phyte', '8/4/2016 11:52'], ['10975351', 'How to Use Open Source and Shut the Fuck Up at the Same Time', 'http://hueniverse.com/2016/01/26/how-to-use-open-source-and-shut-the-fuck-up-at-the-same-time/', '39', '10', 'josep2', '1/26/2016 19:30'], ['11964716', \"Florida DJs May Face Felony for April Fools' Water Joke\", 'http://www.thewire.com/entertainment/2013/04/florida-djs-april-fools-water-joke/63798/', '2', '1', 'vezycash', '6/23/2016 22:20'], ['11919867', 'Technology ventures: From Idea to Enterprise', 'https://www.amazon.com/Technology-Ventures-Enterprise-Thomas-Byers/dp/0073523429', '3', '1', 'hswarna', '6/17/2016 0:01']]\n"
     ]
    }
   ],
   "source": [
    "print(hn[:5])"
   ]
  },
  {
   "cell_type": "code",
   "execution_count": 4,
   "metadata": {},
   "outputs": [
    {
     "name": "stdout",
     "output_type": "stream",
     "text": [
      "['id', 'title', 'url', 'num_points', 'num_comments', 'author', 'created_at']\n",
      "[['12224879', 'Interactive Dynamic Video', 'http://www.interactivedynamicvideo.com/', '386', '52', 'ne0phyte', '8/4/2016 11:52'], ['10975351', 'How to Use Open Source and Shut the Fuck Up at the Same Time', 'http://hueniverse.com/2016/01/26/how-to-use-open-source-and-shut-the-fuck-up-at-the-same-time/', '39', '10', 'josep2', '1/26/2016 19:30'], ['11964716', \"Florida DJs May Face Felony for April Fools' Water Joke\", 'http://www.thewire.com/entertainment/2013/04/florida-djs-april-fools-water-joke/63798/', '2', '1', 'vezycash', '6/23/2016 22:20'], ['11919867', 'Technology ventures: From Idea to Enterprise', 'https://www.amazon.com/Technology-Ventures-Enterprise-Thomas-Byers/dp/0073523429', '3', '1', 'hswarna', '6/17/2016 0:01'], ['10301696', 'Note by Note: The Making of Steinway L1037 (2007)', 'http://www.nytimes.com/2007/11/07/movies/07stein.html?_r=0', '8', '2', 'walterbell', '9/30/2015 4:12']]\n"
     ]
    }
   ],
   "source": [
    "# removing headers\n",
    "\n",
    "headers = hn[0]\n",
    "hn = hn[1:]\n",
    "print(headers)\n",
    "print(hn[:5])"
   ]
  },
  {
   "cell_type": "markdown",
   "metadata": {},
   "source": [
    "##2. Extracting HN and Show HN Posts\n",
    "\n",
    "We shall identify posts that begin with 'Ask HN' and 'Show HN' and separate the two types of posts into different lists. \n",
    "To do this will allow to simply analyze."
   ]
  },
  {
   "cell_type": "code",
   "execution_count": 5,
   "metadata": {},
   "outputs": [
    {
     "name": "stdout",
     "output_type": "stream",
     "text": [
      "1744\n",
      "1162\n",
      "17194\n"
     ]
    }
   ],
   "source": [
    "ask_hn_posts = []\n",
    "show_hn_posts = []\n",
    "other_hn_posts = []\n",
    "\n",
    "for post in hn:\n",
    "    title = post[1]\n",
    "    if title.lower().startswith(\"ask hn\"):\n",
    "        ask_hn_posts.append(post)\n",
    "    elif title.lower().startswith(\"show hn\"):\n",
    "        show_hn_posts.append(post)\n",
    "    else:\n",
    "        other_hn_posts.append(post)\n",
    "\n",
    "print(len(ask_hn_posts))\n",
    "print(len(show_hn_posts))\n",
    "print(len(other_hn_posts))"
   ]
  },
  {
   "cell_type": "markdown",
   "metadata": {},
   "source": [
    "## 3. Calculate the Average Number of Comments \n",
    "\n",
    "We calculate number of comments each type of post receives."
   ]
  },
  {
   "cell_type": "code",
   "execution_count": 6,
   "metadata": {},
   "outputs": [
    {
     "name": "stdout",
     "output_type": "stream",
     "text": [
      "14.038417431192661\n"
     ]
    }
   ],
   "source": [
    "# for 'Ask HN'\n",
    "\n",
    "total_ask_posts = 0\n",
    "\n",
    "for post in ask_hn_posts:\n",
    "    total_ask_posts += int(post[4])\n",
    "\n",
    "avg_ask_comments = total_ask_posts / len(ask_hn_posts)\n",
    "print(avg_ask_comments)"
   ]
  },
  {
   "cell_type": "code",
   "execution_count": 7,
   "metadata": {},
   "outputs": [
    {
     "name": "stdout",
     "output_type": "stream",
     "text": [
      "10.31669535283993\n"
     ]
    }
   ],
   "source": [
    "# for 'Show HN'\n",
    "\n",
    "total_show_posts = 0\n",
    "\n",
    "for post in show_hn_posts:\n",
    "    total_show_posts += int(post[4])\n",
    "\n",
    "avg_show_comments = total_show_posts / len(show_hn_posts)\n",
    "print(avg_show_comments)"
   ]
  },
  {
   "cell_type": "markdown",
   "metadata": {},
   "source": [
    "## 4. Finding the Ampunt of Ask Posts and Posts and Comments by Hour Created\n",
    "\n",
    "Now, we shall check the amount of comments of ask posts in a certain time frame. We check the ask posts created during each hour of the day, and number of comments on the posts. Also, we shall calculate the amount of comments ask posts created at each hout of the day."
   ]
  },
  {
   "cell_type": "code",
   "execution_count": 8,
   "metadata": {},
   "outputs": [
    {
     "data": {
      "text/plain": [
       "{'09': 251,\n",
       " '13': 1253,\n",
       " '10': 793,\n",
       " '14': 1416,\n",
       " '16': 1814,\n",
       " '23': 543,\n",
       " '12': 687,\n",
       " '17': 1146,\n",
       " '15': 4477,\n",
       " '21': 1745,\n",
       " '20': 1722,\n",
       " '02': 1381,\n",
       " '18': 1439,\n",
       " '03': 421,\n",
       " '05': 464,\n",
       " '19': 1188,\n",
       " '01': 683,\n",
       " '22': 479,\n",
       " '08': 492,\n",
       " '04': 337,\n",
       " '00': 447,\n",
       " '06': 397,\n",
       " '07': 267,\n",
       " '11': 641}"
      ]
     },
     "execution_count": 8,
     "metadata": {},
     "output_type": "execute_result"
    }
   ],
   "source": [
    "ask_post_hour = []\n",
    "\n",
    "for post in ask_hn_posts:\n",
    "    ask_post_hour.append([post[6], int(post[4])])\n",
    "\n",
    "comments_ask_hour = {}\n",
    "count_ask_hour = {}\n",
    "format_date = \"%m/%d/%Y %H:%M\"\n",
    "\n",
    "for row in ask_post_hour:\n",
    "    date = row[0]\n",
    "    comment = row[1]\n",
    "    time = dt.datetime.strptime(date, format_date).strftime(\"%H\")\n",
    "    if time in count_ask_hour:\n",
    "        comments_ask_hour[time] += comment\n",
    "    else:\n",
    "        comments_ask_hour[time] = comment\n",
    "        count_ask_hour[time] = 1\n",
    "\n",
    "comments_ask_hour"
   ]
  },
  {
   "cell_type": "code",
   "execution_count": 9,
   "metadata": {},
   "outputs": [
    {
     "data": {
      "text/plain": [
       "[['09', 251.0],\n",
       " ['13', 1253.0],\n",
       " ['10', 793.0],\n",
       " ['14', 1416.0],\n",
       " ['16', 1814.0],\n",
       " ['23', 543.0],\n",
       " ['12', 687.0],\n",
       " ['17', 1146.0],\n",
       " ['15', 4477.0],\n",
       " ['21', 1745.0],\n",
       " ['20', 1722.0],\n",
       " ['02', 1381.0],\n",
       " ['18', 1439.0],\n",
       " ['03', 421.0],\n",
       " ['05', 464.0],\n",
       " ['19', 1188.0],\n",
       " ['01', 683.0],\n",
       " ['22', 479.0],\n",
       " ['08', 492.0],\n",
       " ['04', 337.0],\n",
       " ['00', 447.0],\n",
       " ['06', 397.0],\n",
       " ['07', 267.0],\n",
       " ['11', 641.0]]"
      ]
     },
     "execution_count": 9,
     "metadata": {},
     "output_type": "execute_result"
    }
   ],
   "source": [
    "#Average Coments for Ask HN posts by hour\n",
    "\n",
    "avg_ask_hour = []\n",
    "\n",
    "for hour in comments_ask_hour:\n",
    "    avg_ask_hour.append([hour, comments_ask_hour[hour] / count_ask_hour[hour]])\n",
    "\n",
    "avg_ask_hour"
   ]
  },
  {
   "cell_type": "markdown",
   "metadata": {},
   "source": [
    "## 5. Sorting and Printing values from a List of Lists"
   ]
  },
  {
   "cell_type": "code",
   "execution_count": 10,
   "metadata": {},
   "outputs": [
    {
     "name": "stdout",
     "output_type": "stream",
     "text": [
      "[[251.0, '09'], [1253.0, '13'], [793.0, '10'], [1416.0, '14'], [1814.0, '16'], [543.0, '23'], [687.0, '12'], [1146.0, '17'], [4477.0, '15'], [1745.0, '21'], [1722.0, '20'], [1381.0, '02'], [1439.0, '18'], [421.0, '03'], [464.0, '05'], [1188.0, '19'], [683.0, '01'], [479.0, '22'], [492.0, '08'], [337.0, '04'], [447.0, '00'], [397.0, '06'], [267.0, '07'], [641.0, '11']]\n"
     ]
    },
    {
     "data": {
      "text/plain": [
       "[[4477.0, '15'],\n",
       " [1814.0, '16'],\n",
       " [1745.0, '21'],\n",
       " [1722.0, '20'],\n",
       " [1439.0, '18'],\n",
       " [1416.0, '14'],\n",
       " [1381.0, '02'],\n",
       " [1253.0, '13'],\n",
       " [1188.0, '19'],\n",
       " [1146.0, '17'],\n",
       " [793.0, '10'],\n",
       " [687.0, '12'],\n",
       " [683.0, '01'],\n",
       " [641.0, '11'],\n",
       " [543.0, '23'],\n",
       " [492.0, '08'],\n",
       " [479.0, '22'],\n",
       " [464.0, '05'],\n",
       " [447.0, '00'],\n",
       " [421.0, '03'],\n",
       " [397.0, '06'],\n",
       " [337.0, '04'],\n",
       " [267.0, '07'],\n",
       " [251.0, '09']]"
      ]
     },
     "execution_count": 10,
     "metadata": {},
     "output_type": "execute_result"
    }
   ],
   "source": [
    "swap_avg_hour = []\n",
    "\n",
    "for row in avg_ask_hour:\n",
    "    swap_avg_hour.append([row[1], row[0]])\n",
    "\n",
    "print(swap_avg_hour)\n",
    "\n",
    "sorted_swap = sorted(swap_avg_hour, reverse=True)\n",
    "\n",
    "sorted_swap"
   ]
  },
  {
   "cell_type": "code",
   "execution_count": 11,
   "metadata": {},
   "outputs": [
    {
     "name": "stdout",
     "output_type": "stream",
     "text": [
      "Top 5 Hours for 'Ask HN' Comments\n",
      "15:00: 4477.00 average comments per post\n",
      "16:00: 1814.00 average comments per post\n",
      "21:00: 1745.00 average comments per post\n",
      "20:00: 1722.00 average comments per post\n",
      "18:00: 1439.00 average comments per post\n"
     ]
    }
   ],
   "source": [
    "# sort the values and print thhe 5 hours with the highest avg comments.\n",
    " \n",
    "print(\"Top 5 Hours for 'Ask HN' Comments\")\n",
    "for avg, hr in sorted_swap[:5]:\n",
    "    print(\n",
    "        \"{}: {:.2f} average comments per post\".format(\n",
    "            dt.datetime.strptime(hr, \"%H\").strftime(\"%H:%M\"),avg\n",
    "        )\n",
    "    )"
   ]
  },
  {
   "cell_type": "markdown",
   "metadata": {},
   "source": [
    "## Conclusion\n",
    "\n",
    "In this project, we did an analysis of ask posts and show posts determining which type of post and time receive the most comments on average.\n",
    "\n",
    "We should notice that most of analysis include the full dataset that included all types of post comments and those without the comments."
   ]
  }
 ],
 "metadata": {
  "kernelspec": {
   "display_name": "Python 3.10.8 64-bit",
   "language": "python",
   "name": "python3"
  },
  "language_info": {
   "codemirror_mode": {
    "name": "ipython",
    "version": 3
   },
   "file_extension": ".py",
   "mimetype": "text/x-python",
   "name": "python",
   "nbconvert_exporter": "python",
   "pygments_lexer": "ipython3",
   "version": "3.10.8"
  },
  "orig_nbformat": 4,
  "vscode": {
   "interpreter": {
    "hash": "26de051ba29f2982a8de78e945f0abaf191376122a1563185a90213a26c5da77"
   }
  }
 },
 "nbformat": 4,
 "nbformat_minor": 2
}
